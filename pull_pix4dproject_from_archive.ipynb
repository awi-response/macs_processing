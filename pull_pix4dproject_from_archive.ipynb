{
 "cells": [
  {
   "cell_type": "code",
   "execution_count": 83,
   "id": "5102da08-d075-4fa6-8625-3f82c27bc331",
   "metadata": {},
   "outputs": [],
   "source": [
    "import os\n",
    "from pathlib import Path\n",
    "import zipfile, tarfile\n",
    "import tqdm"
   ]
  },
  {
   "cell_type": "code",
   "execution_count": 84,
   "id": "022c841f-649d-4d4f-af38-55a07f345b81",
   "metadata": {},
   "outputs": [],
   "source": [
    "def create_unziplist(project_name, flist, subset=['01_rawdata', '02_studysites', '04_pix4d']):\n",
    "    outlist=[]\n",
    "    #subset = ['01_rawdata', '02_studysites', '04_pix4d']\n",
    "    for sub in subset:\n",
    "        outlist.extend([f for f in flist if sub in f])\n",
    "        #outlist = [f'{project_name}/{sub}' for sub in subset]\n",
    "    return outlist"
   ]
  },
  {
   "cell_type": "code",
   "execution_count": 17,
   "id": "29ad93ea-2c28-4875-868c-e6f558721d0e",
   "metadata": {},
   "outputs": [],
   "source": [
    "tape_path = r'\\\\hssrv1.awi.de\\projects\\p_macsprocessing\\backup_processing_files'\n",
    "processing_path = r'E:\\MACS_Batch_Processing'\n",
    "sftp_path = 'sftp://hsm.awi.de/'"
   ]
  },
  {
   "cell_type": "markdown",
   "id": "d815aeb2-89f2-42e4-ab97-53982af5d942",
   "metadata": {},
   "source": [
    "### Establish server connection\n",
    "* find file\n",
    "* list available files and size\n",
    "* select"
   ]
  },
  {
   "cell_type": "code",
   "execution_count": 44,
   "id": "bff61900-ee6a-4dda-abaf-c28cc3ad3193",
   "metadata": {},
   "outputs": [],
   "source": [
    "p = Path(tape_path)\n",
    "project_name = 'WA_NoatakValley_06_20210703_10cm'"
   ]
  },
  {
   "cell_type": "code",
   "execution_count": 47,
   "id": "7355396d-4a58-49ee-951f-90981aae7133",
   "metadata": {},
   "outputs": [],
   "source": [
    "p_file = p / f'{project_name}.tar'"
   ]
  },
  {
   "cell_type": "code",
   "execution_count": 48,
   "id": "bfdb9248-5a47-484a-ada4-fab7e3caf77c",
   "metadata": {},
   "outputs": [
    {
     "data": {
      "text/plain": [
       "True"
      ]
     },
     "execution_count": 48,
     "metadata": {},
     "output_type": "execute_result"
    }
   ],
   "source": [
    "p_file.exists()"
   ]
  },
  {
   "cell_type": "markdown",
   "id": "38ee1371-4a42-419c-9d75-4a7833bd2b05",
   "metadata": {},
   "source": [
    "### Open zipfile\n",
    "* open\n",
    "* unzip to target"
   ]
  },
  {
   "cell_type": "code",
   "execution_count": 88,
   "id": "dcbebe6f-8d42-46f4-8bb3-d3f8d4304b13",
   "metadata": {},
   "outputs": [],
   "source": [
    "f = tarfile.open(p_file)"
   ]
  },
  {
   "cell_type": "code",
   "execution_count": 89,
   "id": "b100eda5-9495-46c2-89dd-2d9f3fd5e87d",
   "metadata": {},
   "outputs": [],
   "source": [
    "flist = f.getnames()"
   ]
  },
  {
   "cell_type": "code",
   "execution_count": 90,
   "id": "6817b600-6369-429c-bd3a-853d9168acf2",
   "metadata": {},
   "outputs": [],
   "source": [
    "unzip_subset = create_unziplist(project_name, flist, subset=['02_studysites', '04_pix4d'])"
   ]
  },
  {
   "cell_type": "code",
   "execution_count": null,
   "id": "dddfdc6b-b7df-4efc-886d-dd54576fb574",
   "metadata": {},
   "outputs": [
    {
     "name": "stderr",
     "output_type": "stream",
     "text": [
      "C:\\Users\\initze\\AppData\\Local\\Temp\\ipykernel_50376\\2878641165.py:1: TqdmDeprecationWarning: This function will be removed in tqdm==5.0.0\n",
      "Please use `tqdm.notebook.tqdm` instead of `tqdm.tqdm_notebook`\n",
      "  for ff in tqdm.tqdm_notebook(unzip_subset):\n"
     ]
    },
    {
     "data": {
      "application/vnd.jupyter.widget-view+json": {
       "model_id": "19a6bf11ec0b4881abdcb8cfde6832aa",
       "version_major": 2,
       "version_minor": 0
      },
      "text/plain": [
       "  0%|          | 0/889 [00:00<?, ?it/s]"
      ]
     },
     "metadata": {},
     "output_type": "display_data"
    }
   ],
   "source": [
    "for ff in tqdm.tqdm_notebook(unzip_subset):\n",
    "    f.extract(ff, path=processing_path)"
   ]
  },
  {
   "cell_type": "code",
   "execution_count": 87,
   "id": "893619c6-f60d-4bdf-bc1a-c73632138abb",
   "metadata": {},
   "outputs": [],
   "source": [
    "f.close()"
   ]
  },
  {
   "cell_type": "markdown",
   "id": "7bbba5d4-55fe-4bfe-9b77-94347dc3dd60",
   "metadata": {},
   "source": [
    "#### Rename if required \n",
    "* run existing renaming script"
   ]
  },
  {
   "cell_type": "code",
   "execution_count": null,
   "id": "629b09b9-0da3-4059-9000-439d5b53e0e5",
   "metadata": {},
   "outputs": [],
   "source": []
  },
  {
   "cell_type": "code",
   "execution_count": 18,
   "id": "0c7e075b-4d0b-4c55-b58e-437a2e75b72a",
   "metadata": {},
   "outputs": [],
   "source": [
    "p = Path(tape_path)"
   ]
  },
  {
   "cell_type": "code",
   "execution_count": 23,
   "id": "670cd22c-b698-4112-a1cf-560435a05266",
   "metadata": {},
   "outputs": [
    {
     "data": {
      "text/plain": [
       "[]"
      ]
     },
     "execution_count": 23,
     "metadata": {},
     "output_type": "execute_result"
    }
   ],
   "source": [
    "list(p.glob('*/*'))"
   ]
  },
  {
   "cell_type": "code",
   "execution_count": 8,
   "id": "66edccaf-de42-4d88-9f72-d4272e2169cb",
   "metadata": {},
   "outputs": [
    {
     "data": {
      "text/plain": [
       "True"
      ]
     },
     "execution_count": 13,
     "metadata": {},
     "output_type": "execute_result"
    }
   ],
   "source": [
    "p.exists"
   ]
  },
  {
   "cell_type": "code",
   "execution_count": null,
   "id": "656a328b-e1b1-428c-850c-a409cf5d448a",
   "metadata": {},
   "outputs": [],
   "source": []
  }
 ],
 "metadata": {
  "kernelspec": {
   "display_name": "Python 3 (ipykernel)",
   "language": "python",
   "name": "python3"
  },
  "language_info": {
   "codemirror_mode": {
    "name": "ipython",
    "version": 3
   },
   "file_extension": ".py",
   "mimetype": "text/x-python",
   "name": "python",
   "nbconvert_exporter": "python",
   "pygments_lexer": "ipython3",
   "version": "3.8.0"
  }
 },
 "nbformat": 4,
 "nbformat_minor": 5
}
