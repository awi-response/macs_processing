{
 "cells": [
  {
   "cell_type": "code",
   "execution_count": 83,
   "id": "5102da08-d075-4fa6-8625-3f82c27bc331",
   "metadata": {},
   "outputs": [],
   "source": [
    "import os\n",
    "from pathlib import Path\n",
    "import zipfile, tarfile\n",
    "import tqdm"
   ]
  },
  {
   "cell_type": "code",
   "execution_count": 154,
   "id": "022c841f-649d-4d4f-af38-55a07f345b81",
   "metadata": {},
   "outputs": [],
   "source": [
    "def create_unziplist(project_name, flist, subset=['01_rawdata', '02_studysites', '04_pix4d'], exclude=['2_densification/', '3_dsm_ortho/']):\n",
    "    outlist=[]\n",
    "    #subset = ['01_rawdata', '02_studysites', '04_pix4d']\n",
    "    for sub in subset:\n",
    "        outlist.extend([f for f in flist if sub in f])                                                                                   \n",
    "    # exclusion - not working yet\n",
    "    pattern = '|'.join(exclude)\n",
    "    r = pd.Series(outlist)\n",
    "    contains = r.str.contains(pattern)\n",
    "    outlist = r[~contains].values\n",
    "    \n",
    "    return outlist"
   ]
  },
  {
   "cell_type": "code",
   "execution_count": 155,
   "id": "29ad93ea-2c28-4875-868c-e6f558721d0e",
   "metadata": {},
   "outputs": [],
   "source": [
    "tape_path = r'\\\\hssrv1.awi.de\\projects\\p_macsprocessing\\backup_processing_files'\n",
    "processing_path = r'E:\\MACS_Batch_Processing'\n",
    "sftp_path = 'sftp://hsm.awi.de/'"
   ]
  },
  {
   "cell_type": "markdown",
   "id": "d815aeb2-89f2-42e4-ab97-53982af5d942",
   "metadata": {},
   "source": [
    "### Establish server connection\n",
    "* find file\n",
    "* list available files and size\n",
    "* select"
   ]
  },
  {
   "cell_type": "code",
   "execution_count": 156,
   "id": "bff61900-ee6a-4dda-abaf-c28cc3ad3193",
   "metadata": {},
   "outputs": [],
   "source": [
    "p = Path(tape_path)\n",
    "project_name = 'WA_NoatakValley_06_20210703_10cm'"
   ]
  },
  {
   "cell_type": "code",
   "execution_count": 157,
   "id": "7355396d-4a58-49ee-951f-90981aae7133",
   "metadata": {},
   "outputs": [],
   "source": [
    "p_file = p / f'{project_name}.tar'"
   ]
  },
  {
   "cell_type": "code",
   "execution_count": 158,
   "id": "bfdb9248-5a47-484a-ada4-fab7e3caf77c",
   "metadata": {},
   "outputs": [
    {
     "data": {
      "text/plain": [
       "True"
      ]
     },
     "execution_count": 158,
     "metadata": {},
     "output_type": "execute_result"
    }
   ],
   "source": [
    "p_file.exists()"
   ]
  },
  {
   "cell_type": "markdown",
   "id": "38ee1371-4a42-419c-9d75-4a7833bd2b05",
   "metadata": {},
   "source": [
    "### Open zipfile\n",
    "* test extractall function with speedtest\n",
    "* check if fiel exists"
   ]
  },
  {
   "cell_type": "code",
   "execution_count": 159,
   "id": "04570435-1de3-41d4-a0b8-983cc2604f0e",
   "metadata": {},
   "outputs": [],
   "source": [
    "f = tarfile.open(p_file)\n",
    "flist = f.getnames()\n",
    "unzip_subset = create_unziplist(project_name, flist, subset=['02_studysites', '04_pix4d'])"
   ]
  },
  {
   "cell_type": "code",
   "execution_count": 165,
   "id": "a3ca5601-281a-4197-a285-4424e02de257",
   "metadata": {},
   "outputs": [
    {
     "data": {
      "text/plain": [
       "True"
      ]
     },
     "execution_count": 165,
     "metadata": {},
     "output_type": "execute_result"
    }
   ],
   "source": [
    "(Path(processing_path) / unzip_subset[0]).exists()"
   ]
  },
  {
   "cell_type": "code",
   "execution_count": 91,
   "id": "dddfdc6b-b7df-4efc-886d-dd54576fb574",
   "metadata": {},
   "outputs": [
    {
     "name": "stderr",
     "output_type": "stream",
     "text": [
      "C:\\Users\\initze\\AppData\\Local\\Temp\\ipykernel_50376\\2878641165.py:1: TqdmDeprecationWarning: This function will be removed in tqdm==5.0.0\n",
      "Please use `tqdm.notebook.tqdm` instead of `tqdm.tqdm_notebook`\n",
      "  for ff in tqdm.tqdm_notebook(unzip_subset):\n"
     ]
    },
    {
     "data": {
      "application/vnd.jupyter.widget-view+json": {
       "model_id": "19a6bf11ec0b4881abdcb8cfde6832aa",
       "version_major": 2,
       "version_minor": 0
      },
      "text/plain": [
       "  0%|          | 0/889 [00:00<?, ?it/s]"
      ]
     },
     "metadata": {},
     "output_type": "display_data"
    }
   ],
   "source": [
    "for ff in tqdm.tqdm_notebook(unzip_subset):\n",
    "    if not (Path(processing_path) / ff).exists():\n",
    "        f.extract(ff, path=processing_path)"
   ]
  },
  {
   "cell_type": "code",
   "execution_count": 92,
   "id": "893619c6-f60d-4bdf-bc1a-c73632138abb",
   "metadata": {},
   "outputs": [],
   "source": [
    "f.close()"
   ]
  },
  {
   "cell_type": "code",
   "execution_count": null,
   "id": "b872a450-54ad-41ae-9c0f-b35d0e7fc9de",
   "metadata": {},
   "outputs": [],
   "source": []
  },
  {
   "cell_type": "markdown",
   "id": "6c832bb2-6c13-4b7a-b0eb-e6d2b93e4b42",
   "metadata": {},
   "source": [
    "#### Experiment to exclude "
   ]
  },
  {
   "cell_type": "code",
   "execution_count": 110,
   "id": "70a05990-53bf-4378-9def-501758b88a52",
   "metadata": {},
   "outputs": [],
   "source": [
    "flist = create_unziplist(project_name, flist, subset=['02_studysites', '04_pix4d'])"
   ]
  },
  {
   "cell_type": "code",
   "execution_count": 111,
   "id": "ee0680de-9df8-427f-aef1-f5487b999221",
   "metadata": {},
   "outputs": [],
   "source": [
    "import pandas as pd"
   ]
  },
  {
   "cell_type": "code",
   "execution_count": 136,
   "id": "566cc2d1-c638-4e0a-92ee-66ddd9927f05",
   "metadata": {},
   "outputs": [],
   "source": []
  },
  {
   "cell_type": "code",
   "execution_count": 153,
   "id": "83bb5ed0-0227-4855-8537-a99f6e1465a4",
   "metadata": {},
   "outputs": [
    {
     "data": {
      "text/plain": [
       "0         WA_NoatakValley_06_20210703_10cm/02_studysites\n",
       "1      WA_NoatakValley_06_20210703_10cm/02_studysites...\n",
       "2      WA_NoatakValley_06_20210703_10cm/02_studysites...\n",
       "3      WA_NoatakValley_06_20210703_10cm/02_studysites...\n",
       "4      WA_NoatakValley_06_20210703_10cm/02_studysites...\n",
       "                             ...                        \n",
       "740    WA_NoatakValley_06_20210703_10cm/04_pix4d/WA_N...\n",
       "741    WA_NoatakValley_06_20210703_10cm/04_pix4d/WA_N...\n",
       "742    WA_NoatakValley_06_20210703_10cm/04_pix4d/WA_N...\n",
       "743    WA_NoatakValley_06_20210703_10cm/04_pix4d/WA_N...\n",
       "744    WA_NoatakValley_06_20210703_10cm/04_pix4d/WA_N...\n",
       "Length: 601, dtype: object"
      ]
     },
     "execution_count": 153,
     "metadata": {},
     "output_type": "execute_result"
    }
   ],
   "source": [
    "r"
   ]
  },
  {
   "cell_type": "markdown",
   "id": "7bbba5d4-55fe-4bfe-9b77-94347dc3dd60",
   "metadata": {
    "tags": []
   },
   "source": [
    "#### Rename if required \n",
    "* run existing renaming script"
   ]
  }
 ],
 "metadata": {
  "kernelspec": {
   "display_name": "Python 3 (ipykernel)",
   "language": "python",
   "name": "python3"
  },
  "language_info": {
   "codemirror_mode": {
    "name": "ipython",
    "version": 3
   },
   "file_extension": ".py",
   "mimetype": "text/x-python",
   "name": "python",
   "nbconvert_exporter": "python",
   "pygments_lexer": "ipython3",
   "version": "3.8.0"
  }
 },
 "nbformat": 4,
 "nbformat_minor": 5
}
