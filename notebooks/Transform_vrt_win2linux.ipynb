{
 "cells": [
  {
   "cell_type": "markdown",
   "id": "a23562b0-325f-4808-918e-ed79bec8f1a5",
   "metadata": {},
   "source": [
    "# Transform windows only vrt to cross-platform\n"
   ]
  },
  {
   "cell_type": "markdown",
   "id": "be1b5091-985a-4a15-bfd5-c1f79db304ea",
   "metadata": {},
   "source": [
    "## Imports"
   ]
  },
  {
   "cell_type": "code",
   "execution_count": null,
   "id": "c5206242-ef63-4cea-b577-41427f27bdaa",
   "metadata": {},
   "outputs": [],
   "source": [
    "import pandas as pd\n",
    "from pathlib import Path\n",
    "import itertools\n",
    "import shutil\n",
    "\n",
    "from utils_report import *"
   ]
  },
  {
   "cell_type": "markdown",
   "id": "66ade324-13a4-4d8a-8b8c-3c2c0f9a2a4d",
   "metadata": {},
   "source": [
    "## Setup \n",
    "* paths"
   ]
  },
  {
   "cell_type": "code",
   "execution_count": null,
   "id": "76073d9f-08dd-4e1f-95ce-7d9bb7aac46a",
   "metadata": {},
   "outputs": [],
   "source": [
    "# setup basepaths\n",
    "DIR_BASE = Path(r'S:\\p_macsprocessing')\n",
    "DIR_DATA_PRODUCTS = DIR_BASE / 'data_products'"
   ]
  },
  {
   "cell_type": "code",
   "execution_count": null,
   "id": "a99afb2d-174d-4c1d-a4f7-a8f0ca4ebdd6",
   "metadata": {},
   "outputs": [],
   "source": [
    "# check if directories all exists\n",
    "for d in [DIR_BASE, DIR_DATA_PRODUCTS]:\n",
    "    assert d.exists()"
   ]
  },
  {
   "cell_type": "markdown",
   "id": "a3357150-9634-4c14-aab5-0397cf863258",
   "metadata": {},
   "source": [
    "## Calculate Statistics \n",
    "* Files\n",
    "* File Count\n",
    "* file count accross types\n",
    "* aoi (size?)\n"
   ]
  },
  {
   "cell_type": "markdown",
   "id": "9318f924-0d99-445d-bfaa-11ffa71aa465",
   "metadata": {},
   "source": [
    "#### Setup basic Dataframe and split input name"
   ]
  },
  {
   "cell_type": "code",
   "execution_count": null,
   "id": "ecca8a9a-49a5-4540-b8da-d4a93d8e4ef7",
   "metadata": {},
   "outputs": [],
   "source": [
    "df = pd.DataFrame(columns=['project_name', 'products_dir'])\n",
    "# create pathlist of output products\n",
    "dir_list = list(DIR_DATA_PRODUCTS.glob('*'))\n",
    "df['products_dir'] = dir_list\n",
    "# get project name\n",
    "df['project_name'] = df['products_dir'].apply(lambda x: x.name)\n",
    "# add site specific details\n",
    "df = split_name_details(df)"
   ]
  },
  {
   "cell_type": "code",
   "execution_count": null,
   "id": "86b90466-ff9b-452a-968f-0a36246f35c3",
   "metadata": {},
   "outputs": [],
   "source": [
    "#check ortho, dsm and processing_info\n",
    "file_check_columns = ['DSM', 'Ortho','processing_info']\n",
    "cols_file_check = flatten([[f\"{item}_dir_exists\", f\"{item}_n_files\"] for item in file_check_columns])\n",
    "\n",
    "file_check_output = df.apply(file_check, dirs=file_check_columns, axis=1)\n",
    "df = df.join(pd.DataFrame(file_check_output.to_list(), columns=cols_file_check))"
   ]
  },
  {
   "cell_type": "code",
   "execution_count": null,
   "id": "58e289fc-5b9e-4fdc-8930-b7e3285fa8ad",
   "metadata": {},
   "outputs": [],
   "source": [
    "#check for base files\n",
    "# has vrt files\n",
    "df['vrt_exists'] = df.apply(check_files_vrt, axis=1)"
   ]
  },
  {
   "cell_type": "markdown",
   "id": "3e778939-fd72-4c38-abb7-761d898c675e",
   "metadata": {},
   "source": [
    "#### Read vrt"
   ]
  },
  {
   "cell_type": "code",
   "execution_count": null,
   "id": "cfcda499-1e13-4108-b9a5-6e6aaf7a3ff6",
   "metadata": {},
   "outputs": [],
   "source": [
    "df['vrt_is_linux'] = df.apply(check_vrt_is_linux, axis=1)"
   ]
  },
  {
   "cell_type": "code",
   "execution_count": null,
   "id": "4ca756cf-24ca-4de3-8d39-77cdd0b83325",
   "metadata": {},
   "outputs": [],
   "source": [
    "def transform_files_vrt(row):\n",
    "    for item in ['Ortho.vrt', 'DSM.vrt']:\n",
    "        vrt_file = row['products_dir'] / item\n",
    "        vrt_transform_win_to_linux(vrt_file, backup=False)"
   ]
  },
  {
   "cell_type": "markdown",
   "id": "fb383dd4-a261-45e2-b975-cbd95cc49589",
   "metadata": {},
   "source": [
    "### Run file transformation "
   ]
  },
  {
   "cell_type": "code",
   "execution_count": null,
   "id": "9c57c9bb-3011-41c2-aaa7-19520fc70099",
   "metadata": {},
   "outputs": [],
   "source": [
    "df.iloc[:].apply(transform_files_vrt, axis=1)"
   ]
  },
  {
   "cell_type": "code",
   "execution_count": null,
   "id": "b09b27bd-dcbf-4678-a91e-e86fe962a8f5",
   "metadata": {},
   "outputs": [],
   "source": []
  }
 ],
 "metadata": {
  "kernelspec": {
   "display_name": "Python 3 (ipykernel)",
   "language": "python",
   "name": "python3"
  },
  "language_info": {
   "codemirror_mode": {
    "name": "ipython",
    "version": 3
   },
   "file_extension": ".py",
   "mimetype": "text/x-python",
   "name": "python",
   "nbconvert_exporter": "python",
   "pygments_lexer": "ipython3",
   "version": "3.8.0"
  }
 },
 "nbformat": 4,
 "nbformat_minor": 5
}
