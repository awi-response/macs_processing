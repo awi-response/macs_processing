{
 "cells": [
  {
   "cell_type": "code",
   "execution_count": null,
   "id": "a74d683b",
   "metadata": {},
   "outputs": [],
   "source": [
    "import os, shutil\n",
    "from pathlib import Path\n",
    "import pandas as pd"
   ]
  },
  {
   "cell_type": "code",
   "execution_count": null,
   "id": "2a643ecc",
   "metadata": {},
   "outputs": [],
   "source": [
    "def create_outname(infile, string_in, string_replace):\n",
    "    name = infile.name.replace(string_in, string_replace)\n",
    "    return infile.parent / name"
   ]
  },
  {
   "cell_type": "markdown",
   "id": "f3da6e89",
   "metadata": {},
   "source": [
    "### SETTINGS "
   ]
  },
  {
   "cell_type": "code",
   "execution_count": null,
   "id": "88aabb7f",
   "metadata": {},
   "outputs": [],
   "source": [
    "oldname = 'WA_SewardPeninsulaNorth_02_20210710_10cm'\n",
    "newname = 'WA_SewardPeninsulaNorth_02_20210709_10cm'\n",
    "\n",
    "process_dir = Path (r'S:\\p_macsprocessing\\data_products')# / oldname\n",
    "#process_dir = Path (r'G:') / oldname\n",
    "#process_dir = Path (r'E:\\MACS_Batch_Processing')# / oldname"
   ]
  },
  {
   "cell_type": "markdown",
   "id": "7d988f2f",
   "metadata": {},
   "source": [
    "#### create dataframe with properties "
   ]
  },
  {
   "cell_type": "code",
   "execution_count": null,
   "id": "5b27997d",
   "metadata": {},
   "outputs": [],
   "source": [
    "flist = list(process_dir.glob(f'**/*{oldname}*'))\n",
    "\n",
    "if len(flist) > 0:\n",
    "    df = pd.DataFrame(data=flist, columns=['filename'])\n",
    "\n",
    "    df['depth'] = df.apply(lambda x:len(x.filename.parts), axis=1)\n",
    "    df['is_dir'] = df.apply(lambda x:x.filename.is_dir(), axis=1)\n",
    "\n",
    "    df['filename_out'] = df['filename'].apply(create_outname, args=(oldname, newname))\n",
    "\n",
    "    df_sorted = df.sort_values(by='depth', ascending=False)\n",
    "else:\n",
    "    print(\"No matches found\")"
   ]
  },
  {
   "cell_type": "markdown",
   "id": "3535eea1",
   "metadata": {},
   "source": [
    "#### Number of files to rename "
   ]
  },
  {
   "cell_type": "code",
   "execution_count": null,
   "id": "935bb662",
   "metadata": {},
   "outputs": [],
   "source": [
    "len(df_sorted)"
   ]
  },
  {
   "cell_type": "code",
   "execution_count": null,
   "id": "feb78bc5",
   "metadata": {},
   "outputs": [],
   "source": [
    "df_sorted"
   ]
  },
  {
   "cell_type": "markdown",
   "id": "51ab2578",
   "metadata": {},
   "source": [
    "### Rename  "
   ]
  },
  {
   "cell_type": "code",
   "execution_count": null,
   "id": "053f2766",
   "metadata": {},
   "outputs": [],
   "source": [
    "df_sorted.apply(lambda x: x.filename.rename(x.filename_out), axis=1)"
   ]
  },
  {
   "cell_type": "code",
   "execution_count": null,
   "id": "0d29769f",
   "metadata": {},
   "outputs": [],
   "source": []
  }
 ],
 "metadata": {
  "kernelspec": {
   "display_name": "Python 3 (ipykernel)",
   "language": "python",
   "name": "python3"
  },
  "language_info": {
   "codemirror_mode": {
    "name": "ipython",
    "version": 3
   },
   "file_extension": ".py",
   "mimetype": "text/x-python",
   "name": "python",
   "nbconvert_exporter": "python",
   "pygments_lexer": "ipython3",
   "version": "3.8.0"
  }
 },
 "nbformat": 4,
 "nbformat_minor": 5
}
