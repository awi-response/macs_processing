{
 "cells": [
  {
   "cell_type": "markdown",
   "id": "b0eecc22",
   "metadata": {},
   "source": [
    "## Run Point cloud clipping automated "
   ]
  },
  {
   "cell_type": "code",
   "execution_count": null,
   "id": "d2f87d16",
   "metadata": {},
   "outputs": [],
   "source": [
    "from pathlib import Path\n",
    "import pandas as pd\n",
    "import os\n",
    "from tqdm.notebook import tqdm"
   ]
  },
  {
   "cell_type": "code",
   "execution_count": null,
   "id": "c22c72b9",
   "metadata": {},
   "outputs": [],
   "source": [
    "products_dir = Path(r'S:\\p_macsprocessing\\data_products')\n",
    "archive_dirs = [Path(r'F:\\MACS_Data_Storage'), Path(r'G:\\MACS_Data_Storage')]"
   ]
  },
  {
   "cell_type": "code",
   "execution_count": null,
   "id": "325ef883",
   "metadata": {},
   "outputs": [],
   "source": [
    "def has_point_clouds(row):\n",
    "    return len(list(row.products_path.glob('PointClouds/*'))) > 0"
   ]
  },
  {
   "cell_type": "code",
   "execution_count": null,
   "id": "550bfb04",
   "metadata": {},
   "outputs": [],
   "source": [
    "def find_tarfile(row):\n",
    "    out = []\n",
    "    for adir in archive_dirs:\n",
    "        fname = (adir / (row.site_name + '.tar'))\n",
    "        if fname.exists():\n",
    "            return fname\n",
    "    return None"
   ]
  },
  {
   "cell_type": "code",
   "execution_count": null,
   "id": "1657943d",
   "metadata": {},
   "outputs": [],
   "source": [
    "products = list(products_dir.glob('*'))\n",
    "df = pd.DataFrame(data=products, columns=['products_path'])\n",
    "df['site_name'] = df.apply(lambda x: x['products_path'].name,axis=1)\n",
    "df['has_point_clouds'] = df.apply(has_point_clouds, axis=1)\n",
    "df['archive_file'] = df.apply(find_tarfile, axis=1)"
   ]
  },
  {
   "cell_type": "code",
   "execution_count": null,
   "id": "307ec37b",
   "metadata": {},
   "outputs": [],
   "source": [
    "process_list = df[~df['has_point_clouds'] & ~df['archive_file'].isna()]"
   ]
  },
  {
   "cell_type": "markdown",
   "id": "e011701d",
   "metadata": {},
   "source": [
    "python 07_Clip_PointClouds_from_Archive.py -i G:\\MACS_Data_Storage\\NA_AnaktuvukRiverFire_20190722_7cm_03.tar"
   ]
  },
  {
   "cell_type": "code",
   "execution_count": null,
   "id": "08fad1cd",
   "metadata": {
    "scrolled": true
   },
   "outputs": [],
   "source": [
    "for index, row in tqdm(process_list.iterrows()):\n",
    "    s = f'python 07_Clip_PointClouds_from_Archive.py -i {row.archive_file}'\n",
    "    print(s)\n",
    "    os.system(s)"
   ]
  },
  {
   "cell_type": "code",
   "execution_count": null,
   "id": "1094f083",
   "metadata": {},
   "outputs": [],
   "source": []
  }
 ],
 "metadata": {
  "kernelspec": {
   "display_name": "Python 3 (ipykernel)",
   "language": "python",
   "name": "python3"
  },
  "language_info": {
   "codemirror_mode": {
    "name": "ipython",
    "version": 3
   },
   "file_extension": ".py",
   "mimetype": "text/x-python",
   "name": "python",
   "nbconvert_exporter": "python",
   "pygments_lexer": "ipython3",
   "version": "3.8.0"
  }
 },
 "nbformat": 4,
 "nbformat_minor": 5
}
