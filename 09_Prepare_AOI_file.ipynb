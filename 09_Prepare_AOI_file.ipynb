{
 "cells": [
  {
   "cell_type": "markdown",
   "id": "2e1c62da-556b-4b2e-8f2e-986dff4decc7",
   "metadata": {},
   "source": [
    "# Jupyter Notebook to merge MACS Processing AOIs  with clean annotations\n",
    "* Full subsets\n",
    "* Dissolved by sites\n",
    "* Fully dissolved"
   ]
  },
  {
   "cell_type": "code",
   "execution_count": null,
   "id": "02fce3e0-63b7-4b7d-b049-9558cb366a01",
   "metadata": {},
   "outputs": [],
   "source": [
    "import geopandas as gpd\n",
    "from pathlib import Path\n",
    "import utils_report"
   ]
  },
  {
   "cell_type": "code",
   "execution_count": null,
   "id": "21a3d629-72f2-4d3d-9136-2081533e2813",
   "metadata": {},
   "outputs": [],
   "source": [
    "AOI_DIR = Path(r'S:\\p_macsprocessing\\aoi')\n",
    "flist = list(AOI_DIR.glob('*.geojson'))"
   ]
  },
  {
   "cell_type": "code",
   "execution_count": null,
   "id": "21e9eda6-102c-4282-bf6d-2bc702ba91f3",
   "metadata": {},
   "outputs": [],
   "source": [
    "gdf_list = [gpd.read_file(f) for f in flist]"
   ]
  },
  {
   "cell_type": "code",
   "execution_count": null,
   "id": "2e710ad1-c688-46ca-9843-1a9ae37d254e",
   "metadata": {},
   "outputs": [],
   "source": [
    "project_name = [f.stem for f in flist]\n",
    "gdf = gpd.pd.concat(gdf_list)[['geometry']].reset_index(drop=True)\n",
    "gdf['project_name'] = project_name\n",
    "gdf = utils_report.split_name_details(gdf)\n"
   ]
  },
  {
   "cell_type": "markdown",
   "id": "8b2a65f2-0dcb-473a-9578-e603e99a69a6",
   "metadata": {},
   "source": [
    "#### Full Version"
   ]
  },
  {
   "cell_type": "code",
   "execution_count": null,
   "id": "f557cfef-71ba-455f-8a04-c7a85380634a",
   "metadata": {},
   "outputs": [],
   "source": [
    "full_file = AOI_DIR / '..' / 'aois.gpkg'\n",
    "gdf.to_file(full_file)"
   ]
  },
  {
   "cell_type": "markdown",
   "id": "065ef32c-4f6a-4b2b-ae90-ba39e1dc6f5f",
   "metadata": {},
   "source": [
    "#### Dissolved by site"
   ]
  },
  {
   "cell_type": "code",
   "execution_count": null,
   "id": "faf8d5f3-fadf-491f-bc97-53d87d6d4498",
   "metadata": {},
   "outputs": [],
   "source": [
    "gdf_site = gdf.dissolve(by='site').drop(columns=['subset']).sort_values(by='date').reset_index(drop=False)\n",
    "site_file = AOI_DIR / '..' / 'aois_sites.gpkg'\n",
    "gdf_site.to_file(site_file)"
   ]
  },
  {
   "cell_type": "markdown",
   "id": "d12b197e-395b-4581-a240-08387bd1a3bd",
   "metadata": {},
   "source": [
    "#### Dissolved version"
   ]
  },
  {
   "cell_type": "code",
   "execution_count": null,
   "id": "d98864d9-d160-4905-abf6-afdcd55909fc",
   "metadata": {},
   "outputs": [],
   "source": [
    "#gdf_filtered = gdf[['geometry']]\n",
    "dissolved = gdf.dissolve()\n",
    "dissolved_file = AOI_DIR / '..' / 'aois_dissolved.gpkg'\n",
    "dissolved.to_file(dissolved_file)"
   ]
  },
  {
   "cell_type": "code",
   "execution_count": null,
   "id": "d2f86828-72b8-42d0-9516-c403adc16bc4",
   "metadata": {},
   "outputs": [],
   "source": []
  }
 ],
 "metadata": {
  "kernelspec": {
   "display_name": "Python 3 (ipykernel)",
   "language": "python",
   "name": "python3"
  },
  "language_info": {
   "codemirror_mode": {
    "name": "ipython",
    "version": 3
   },
   "file_extension": ".py",
   "mimetype": "text/x-python",
   "name": "python",
   "nbconvert_exporter": "python",
   "pygments_lexer": "ipython3",
   "version": "3.8.0"
  }
 },
 "nbformat": 4,
 "nbformat_minor": 5
}
