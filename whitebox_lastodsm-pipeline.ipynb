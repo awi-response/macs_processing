{
 "cells": [
  {
   "cell_type": "code",
   "execution_count": 1,
   "id": "1ebea3ac-7680-4b78-8c22-764f8adad130",
   "metadata": {
    "tags": []
   },
   "outputs": [],
   "source": [
    "import os\n",
    "from pathlib import Path\n",
    "from whitebox import WhiteboxTools\n",
    "\n",
    "wbt = WhiteboxTools()\n"
   ]
  },
  {
   "cell_type": "markdown",
   "id": "b7cd6e1b-292b-4872-a0b9-cd5dc21a1b60",
   "metadata": {},
   "source": [
    "### Settings "
   ]
  },
  {
   "cell_type": "code",
   "execution_count": null,
   "id": "f055f15a-7e16-4c16-a5c3-ebdb0be48f06",
   "metadata": {
    "tags": []
   },
   "outputs": [],
   "source": [
    "WORKING_DIR = Path(r'E:\\MACS_Batch_Processing\\WA_SelawikSlump_01_20210701_10cm\\07_experiments\\point_cloud')\n",
    "RESOLUTION=0.1\n",
    "TRIANGLE_EDGE_LENGTH=3\n",
    "fill_FILTER=int(5/RESOLUTION)\n",
    "POINT_CLOUDS='nir' #('nir', 'rgb', 'both')"
   ]
  },
  {
   "cell_type": "code",
   "execution_count": 12,
   "id": "5456ba58-b6cb-4a0c-a53f-43b7f5b507a2",
   "metadata": {
    "tags": []
   },
   "outputs": [],
   "source": [
    "wbt.set_working_dir(WORKING_DIR)\n",
    "#wbt.set_compress_rasters(True)\n",
    "wbt.set_compress_rasters(True)\n",
    "def my_callback(value):\n",
    "    if not \"%\" in value:\n",
    "        print(value)\n",
    "wbt.set_default_callback(my_callback)"
   ]
  },
  {
   "cell_type": "markdown",
   "id": "f8e753b9-fdf4-4a02-9187-f4cfe8ce8fd3",
   "metadata": {},
   "source": [
    "### Experiment \n",
    "1. merge\n",
    "2. Interpolate to DSM\n",
    "3. Smooth output\n",
    "4. fill gaps"
   ]
  },
  {
   "cell_type": "markdown",
   "id": "1b2840ed-6f28-4192-90c6-c80bd4bd6469",
   "metadata": {},
   "source": [
    "#### Merge "
   ]
  },
  {
   "cell_type": "code",
   "execution_count": null,
   "id": "677719e5-03cb-4ce0-85ba-661af876ee5c",
   "metadata": {},
   "outputs": [],
   "source": [
    "regex_filter = dict{'nir':'Grayscale', 'rgb':'group1', 'both':''}"
   ]
  },
  {
   "cell_type": "code",
   "execution_count": 19,
   "id": "80484123-051f-45d8-a8d0-973ffb0ae73b",
   "metadata": {
    "tags": []
   },
   "outputs": [
    {
     "name": "stdout",
     "output_type": "stream",
     "text": [
      ".\\whitebox_tools.exe --run=\"LidarJoin\" --wd=\"E:\\MACS_Batch_Processing\\WA_SelawikSlump_01_20210701_10cm\\07_experiments\\point_cloud\" --inputs='WA_SelawikSlump_01_20210701_10cm_Grayscale_densified_point_cloud_part_1.las,WA_SelawikSlump_01_20210701_10cm_Grayscale_densified_point_cloud_part_2.las,WA_SelawikSlump_01_20210701_10cm_Grayscale_densified_point_cloud_part_3.las,WA_SelawikSlump_01_20210701_10cm_Grayscale_densified_point_cloud_part_4.las' --output='merged.las' -v --compress_rasters=True\n",
      "\n",
      "****************************\n",
      "* Welcome to LidarJoin     *\n",
      "* Powered by WhiteboxTools *\n",
      "* www.whiteboxgeo.com      *\n",
      "****************************\n",
      "Adding file: 1 of 4\n",
      "Adding file: 2 of 4\n",
      "Adding file: 3 of 4\n",
      "Adding file: 4 of 4\n",
      "Writing output LAS file...\n",
      "Complete!\n"
     ]
    },
    {
     "data": {
      "text/plain": [
       "0"
      ]
     },
     "execution_count": 19,
     "metadata": {},
     "output_type": "execute_result"
    }
   ],
   "source": [
    "#regex='*.las'\n",
    "regex=f'*{regex_filter[POINT_CLOUDS]}*.las'\n",
    "merge_list = list(WORKING_DIR.glob(regex))\n",
    "\n",
    "merged_pc=f'merged_{POINT_CLOUDS}.las'\n",
    "inputs = ','.join([f.name for f in merge_list if f.name!=merged_pc])\n",
    "\n",
    "wbt.lidar_join(\n",
    "    inputs=inputs,\n",
    "    output=merged_pc\n",
    ")"
   ]
  },
  {
   "cell_type": "markdown",
   "id": "4a77ac45-020c-4cb9-96fd-691a82175dc4",
   "metadata": {},
   "source": [
    "#### DSM "
   ]
  },
  {
   "cell_type": "code",
   "execution_count": 20,
   "id": "1205e3cf-3702-47c4-8820-79f0330cd7e5",
   "metadata": {
    "tags": []
   },
   "outputs": [
    {
     "name": "stdout",
     "output_type": "stream",
     "text": [
      ".\\whitebox_tools.exe --run=\"LidarDigitalSurfaceModel\" --wd=\"E:\\MACS_Batch_Processing\\WA_SelawikSlump_01_20210701_10cm\\07_experiments\\point_cloud\" --input='merged.las' --output='merged_dsm_RES-0.1_TEL-3.tif' --resolution=0.1 --radius=0.5 --max_triangle_edge_length='3' -v --compress_rasters=True\n",
      "\n",
      "***************************************\n",
      "* Welcome to LidarDigitalSurfaceModel *\n",
      "* Powered by WhiteboxTools            *\n",
      "* www.whiteboxgeo.com                 *\n",
      "***************************************\n",
      "Performing interpolation...\n",
      "Reading input LiDAR file...\n",
      "Performing triangulation...\n",
      "Saving data...\n",
      "Finished merged (1 of 1)\n",
      "Elapsed Time (including I/O): 5min 34.548s\n"
     ]
    },
    {
     "data": {
      "text/plain": [
       "0"
      ]
     },
     "execution_count": 20,
     "metadata": {},
     "output_type": "execute_result"
    }
   ],
   "source": [
    "infile = merged_pc\n",
    "outfile = f'merged_dsm_RES-{RESOLUTION}_TEL-{TRIANGLE_EDGE_LENGTH}.tif'\n",
    "wbt.lidar_digital_surface_model(\n",
    "    i=infile, \n",
    "    output=outfile, \n",
    "    resolution=RESOLUTION, \n",
    "    radius=0.5,\n",
    "    max_triangle_edge_length=TRIANGLE_EDGE_LENGTH\n",
    ")"
   ]
  },
  {
   "cell_type": "markdown",
   "id": "be890491-4822-458b-96d2-3dfea552b2fe",
   "metadata": {},
   "source": [
    "#### Fill Holes"
   ]
  },
  {
   "cell_type": "code",
   "execution_count": 21,
   "id": "2bc5a05b-f9e1-4665-af94-e62201d383d5",
   "metadata": {
    "tags": []
   },
   "outputs": [
    {
     "name": "stdout",
     "output_type": "stream",
     "text": [
      ".\\whitebox_tools.exe --run=\"FillMissingData\" --wd=\"E:\\MACS_Batch_Processing\\WA_SelawikSlump_01_20210701_10cm\\07_experiments\\point_cloud\" --input='merged_dsm_RES-0.1_TEL-3.tif' --output='merged_dsm_RES-0.1_TEL-3_filled-50.tif' --filter=50 --weight=2.0 --no_edges -v --compress_rasters=True\n",
      "\n",
      "******************************\n",
      "* Welcome to FillMissingData *\n",
      "* Powered by WhiteboxTools   *\n",
      "* www.whiteboxgeo.com        *\n",
      "******************************\n",
      "Reading data...\n",
      "Finding edge-connected NoData values...\n",
      "Interpolating data holes...\n",
      "Saving data...\n",
      "Output file written\n",
      "Elapsed Time (excluding I/O): 1min 7.672s\n"
     ]
    },
    {
     "data": {
      "text/plain": [
       "0"
      ]
     },
     "execution_count": 21,
     "metadata": {},
     "output_type": "execute_result"
    }
   ],
   "source": [
    "output_filled = outfile[:-4]+f'_filled-{fill_FILTER}.tif'\n",
    "wbt.fill_missing_data(\n",
    "    i=outfile, \n",
    "    output=output_filled, \n",
    "    filter=fill_FILTER, \n",
    "    weight=2.0, \n",
    "    no_edges=True\n",
    ")"
   ]
  },
  {
   "cell_type": "markdown",
   "id": "c70d278f-ace3-4ecf-b58f-99f1f917f097",
   "metadata": {},
   "source": [
    "#### Filter DSM"
   ]
  },
  {
   "cell_type": "code",
   "execution_count": null,
   "id": "12b235d8-93c8-427e-a401-43b797e8be00",
   "metadata": {
    "tags": []
   },
   "outputs": [
    {
     "name": "stdout",
     "output_type": "stream",
     "text": [
      ".\\whitebox_tools.exe --run=\"FeaturePreservingSmoothing\" --wd=\"E:\\MACS_Batch_Processing\\WA_SelawikSlump_01_20210701_10cm\\07_experiments\\point_cloud\" --dem='merged_dsm_RES-0.1_TEL-3_filled-50.tif' --output='merged_dsm_RES-0.1_TEL-3_filled-50_smoothed_smF-100_iterations-20_normDiff-100.tif' --filter=100 --norm_diff=100 --num_iter=20 --max_diff=0.5 -v --compress_rasters=True\n",
      "\n",
      "*****************************************\n",
      "* Welcome to FeaturePreservingSmoothing *\n",
      "* Powered by WhiteboxTools              *\n",
      "* www.whiteboxgeo.com                   *\n",
      "*****************************************\n",
      "Reading data...\n",
      "Calculating normal vectors: 3.680s\n",
      "Smoothing normal vectors: 19min 48.444s\n",
      "Updating elevations...\n",
      "Iteration 1 of 20...\n",
      "Iteration 2 of 20...\n",
      "Iteration 3 of 20...\n",
      "Iteration 4 of 20...\n"
     ]
    }
   ],
   "source": [
    "smF=int(10/RESOLUTION)\n",
    "for iterations in [20]:\n",
    "    for normdiff in [100]:\n",
    "        output_filled_smoothed = output_filled[:-4] + f'_smoothed_smF-{smF}_iterations-{iterations}_normDiff-{normdiff}.tif'\n",
    "        output_filled_smoothed_hs = output_filled_smoothed[:-4] + '_hs.tif'\n",
    "        wbt.feature_preserving_smoothing(\n",
    "            output_filled, \n",
    "            output_filled_smoothed, \n",
    "            filter=smF, \n",
    "            norm_diff=normdiff, \n",
    "            num_iter=iterations, \n",
    "            max_diff=0.5, \n",
    "            zfactor=None\n",
    "        ) \n",
    "        wbt.hillshade(dem=output_filled_smoothed,output=output_filled_smoothed_hs)\n",
    "            "
   ]
  },
  {
   "cell_type": "markdown",
   "id": "f1685024-9065-4c22-8239-2a67a4085c64",
   "metadata": {},
   "source": [
    "#### Clip to tiles \n",
    "* Use either \n",
    "1. footprints file\n",
    "or \n",
    "2. extract footprints of Ortho\n",
    "\n",
    "#### GDAL retile\n",
    "https://gdal.org/programs/gdal_retile.html"
   ]
  },
  {
   "cell_type": "code",
   "execution_count": 17,
   "id": "0c3c6f98-59a3-43a6-b2f2-536d91e4cc42",
   "metadata": {},
   "outputs": [
    {
     "name": "stdout",
     "output_type": "stream",
     "text": [
      "\n"
     ]
    }
   ],
   "source": [
    "print('')"
   ]
  },
  {
   "cell_type": "code",
   "execution_count": null,
   "id": "8d7851b1-0c03-4965-92de-ce8794e13aff",
   "metadata": {},
   "outputs": [],
   "source": []
  }
 ],
 "metadata": {
  "kernelspec": {
   "display_name": "Python 3 (ipykernel)",
   "language": "python",
   "name": "python3"
  },
  "language_info": {
   "codemirror_mode": {
    "name": "ipython",
    "version": 3
   },
   "file_extension": ".py",
   "mimetype": "text/x-python",
   "name": "python",
   "nbconvert_exporter": "python",
   "pygments_lexer": "ipython3",
   "version": "3.8.0"
  }
 },
 "nbformat": 4,
 "nbformat_minor": 5
}
