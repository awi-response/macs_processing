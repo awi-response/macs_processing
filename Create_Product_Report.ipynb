{
 "cells": [
  {
   "cell_type": "markdown",
   "id": "a23562b0-325f-4808-918e-ed79bec8f1a5",
   "metadata": {},
   "source": [
    "# Create Product report for MACS processing data\n",
    "\n",
    "## 1. Data loading\n",
    "\n",
    "## 2. File checks\n",
    "* check completeness of input dirs and base files\n",
    "* count tiles\n",
    "* control for"
   ]
  },
  {
   "cell_type": "markdown",
   "id": "be1b5091-985a-4a15-bfd5-c1f79db304ea",
   "metadata": {},
   "source": [
    "## Imports"
   ]
  },
  {
   "cell_type": "code",
   "execution_count": null,
   "id": "c5206242-ef63-4cea-b577-41427f27bdaa",
   "metadata": {},
   "outputs": [],
   "source": [
    "import pandas as pd\n",
    "from pathlib import Path\n",
    "import itertools\n",
    "\n",
    "from utils_report import *"
   ]
  },
  {
   "cell_type": "markdown",
   "id": "66ade324-13a4-4d8a-8b8c-3c2c0f9a2a4d",
   "metadata": {},
   "source": [
    "## Setup \n",
    "* paths"
   ]
  },
  {
   "cell_type": "code",
   "execution_count": null,
   "id": "76073d9f-08dd-4e1f-95ce-7d9bb7aac46a",
   "metadata": {},
   "outputs": [],
   "source": [
    "# setup basepaths\n",
    "DIR_BASE = Path(r'S:\\p_macsprocessing')\n",
    "DIR_DATA_PRODUCTS = DIR_BASE / 'data_products'\n",
    "DIR_AOI = DIR_BASE / 'aoi'"
   ]
  },
  {
   "cell_type": "code",
   "execution_count": null,
   "id": "a99afb2d-174d-4c1d-a4f7-a8f0ca4ebdd6",
   "metadata": {},
   "outputs": [],
   "source": [
    "# check if directories all exists\n",
    "for d in [DIR_BASE, DIR_DATA_PRODUCTS, DIR_AOI]:\n",
    "    assert d.exists()"
   ]
  },
  {
   "cell_type": "markdown",
   "id": "a3357150-9634-4c14-aab5-0397cf863258",
   "metadata": {},
   "source": [
    "## Calculate Statistics \n",
    "* Files\n",
    "* File Count\n",
    "* file count accross types\n",
    "* aoi (size?)\n"
   ]
  },
  {
   "cell_type": "code",
   "execution_count": null,
   "id": "75a28440-6100-4cc0-ade5-7116a72580c3",
   "metadata": {},
   "outputs": [],
   "source": []
  },
  {
   "cell_type": "markdown",
   "id": "9318f924-0d99-445d-bfaa-11ffa71aa465",
   "metadata": {},
   "source": [
    "#### Setup basic Dataframe and split input name"
   ]
  },
  {
   "cell_type": "code",
   "execution_count": null,
   "id": "ecca8a9a-49a5-4540-b8da-d4a93d8e4ef7",
   "metadata": {},
   "outputs": [],
   "source": [
    "df = pd.DataFrame(columns=['project_name', 'products_dir'])\n",
    "# create pathlist of output products\n",
    "dir_list = list(DIR_DATA_PRODUCTS.glob('*'))\n",
    "df['products_dir'] = dir_list\n",
    "# get project name\n",
    "df['project_name'] = df['products_dir'].apply(lambda x: x.name)\n",
    "# add site specific details\n",
    "df = split_name_details(df)"
   ]
  },
  {
   "cell_type": "code",
   "execution_count": null,
   "id": "86b90466-ff9b-452a-968f-0a36246f35c3",
   "metadata": {},
   "outputs": [],
   "source": [
    "#check ortho, dsm and processing_info\n",
    "file_check_columns = ['DSM', 'Ortho','processing_info']\n",
    "cols_file_check = flatten([[f\"{item}_dir_exists\", f\"{item}_n_files\"] for item in file_check_columns])\n",
    "\n",
    "file_check_output = df.apply(file_check, dirs=file_check_columns, axis=1)\n",
    "df = df.join(pd.DataFrame(file_check_output.to_list(), columns=cols_file_check))"
   ]
  },
  {
   "cell_type": "code",
   "execution_count": null,
   "id": "21070aad-18c7-403d-b690-83f32a4b1e09",
   "metadata": {},
   "outputs": [],
   "source": [
    "# check if aoi exists\n",
    "df['aoi_exists'] = df.apply(lambda x: (DIR_AOI / f'{x.project_name}.geojson').exists(), axis=1)"
   ]
  },
  {
   "cell_type": "code",
   "execution_count": null,
   "id": "06eb10d6-030a-40a3-b165-be6609e82ca5",
   "metadata": {},
   "outputs": [],
   "source": [
    "# check point cloud files\n",
    "PC_files = df.iloc[:].apply(file_check_PC, dirs=['PointClouds'], axis=1)\n",
    "df = df.join(pd.DataFrame(PC_files.to_list(), columns=['PointCloudsRGB_n_files', 'PointCloudsNIR_n_files']))"
   ]
  },
  {
   "cell_type": "code",
   "execution_count": null,
   "id": "58e289fc-5b9e-4fdc-8930-b7e3285fa8ad",
   "metadata": {},
   "outputs": [],
   "source": [
    "#check for base files\n",
    "# has vrt files\n",
    "df['vrt_exists'] = df.apply(check_files_vrt, axis=1)\n",
    "# has previews\n",
    "df['previews_exists'] = df.apply(check_files_previews, axis=1)\n",
    "# has previews\n",
    "df['footprints_exists'] = df.apply(check_files_footprints, axis=1)"
   ]
  },
  {
   "cell_type": "code",
   "execution_count": null,
   "id": "f8b822bf-5b3e-4b4d-b74f-5cce35d69f7f",
   "metadata": {},
   "outputs": [],
   "source": [
    "df = check_file_count(df)"
   ]
  },
  {
   "cell_type": "code",
   "execution_count": null,
   "id": "dcb53c2d-4821-4b3f-b117-3a4d5f4f8b31",
   "metadata": {},
   "outputs": [],
   "source": [
    "df.head()"
   ]
  },
  {
   "cell_type": "markdown",
   "id": "8ebbd8e2-ad44-4e91-a45f-bb7cf2535fd2",
   "metadata": {
    "tags": []
   },
   "source": [
    "## Export\n",
    "* colored df\n",
    "* csv\n",
    "* pdf\n",
    "* excel?"
   ]
  },
  {
   "cell_type": "markdown",
   "id": "c52c70ff-4beb-4f77-b58a-a02ee7805ac6",
   "metadata": {},
   "source": [
    "#### Create styling by column"
   ]
  },
  {
   "cell_type": "code",
   "execution_count": null,
   "id": "4fd0e74d-6328-41af-ad3a-716bff79b1b6",
   "metadata": {},
   "outputs": [],
   "source": [
    "df['valid_count_dsm_ortho_equal'] = df['DSM_n_files'] == df['Ortho_n_files']\n",
    "df['valid_count_pcrgb_pcnir_equal'] = df['PointCloudsRGB_n_files'] == df['PointCloudsNIR_n_files']\n",
    "df['valid_count_pc_raster_equal']"
   ]
  },
  {
   "cell_type": "code",
   "execution_count": null,
   "id": "afa15f1e-074b-4f10-b44c-b58ad719d3bb",
   "metadata": {},
   "outputs": [],
   "source": [
    "subset_cols = [s for s in df.columns if s.endswith('n_files')]\n",
    "subset_exists = [s for s in df.columns if s.endswith('_exists')]\n",
    "subset_valid_counts =  [s for s in df.columns if s.startswith('valid_count_')]\n",
    "subset_valid_styler = ['project_name', 'products_dir', 'all_valid']"
   ]
  },
  {
   "cell_type": "code",
   "execution_count": null,
   "id": "36c62394-869e-4679-9256-96162b5cf340",
   "metadata": {},
   "outputs": [],
   "source": [
    "df['all_valid'] = df[subset_exists + subset_valid_counts].all(axis=1) "
   ]
  },
  {
   "cell_type": "code",
   "execution_count": null,
   "id": "cd0df978-1686-4f34-985f-638584e96a0e",
   "metadata": {},
   "outputs": [],
   "source": [
    "df_styled = df.style.background_gradient(cmap='Blues', subset=subset_cols[:], axis=0)\\\n",
    ".background_gradient(cmap='Greens', subset=subset_exists, axis=0, vmin=0, vmax=1)\\\n",
    ".applymap(highlight_zero)\\\n",
    ".apply(highlight_invalid, axis=1, subset=subset_valid_styler)"
   ]
  },
  {
   "cell_type": "code",
   "execution_count": null,
   "id": "c933ddc7-2fdb-42a6-a931-19732bbc19b8",
   "metadata": {},
   "outputs": [],
   "source": [
    "df_styled"
   ]
  },
  {
   "cell_type": "code",
   "execution_count": null,
   "id": "4c4aa29e-0e26-4559-b15d-cfbd50a70513",
   "metadata": {},
   "outputs": [],
   "source": [
    "df_styled.to_html(DIR_BASE / 'processing_status_report.html')"
   ]
  },
  {
   "cell_type": "code",
   "execution_count": null,
   "id": "a356fbbd-fc1a-4f35-bd0e-da35b0b66ce4",
   "metadata": {
    "tags": []
   },
   "outputs": [],
   "source": [
    "#df_styled.to_excel(DIR_BASE / 'processing_status_report.xlsx')"
   ]
  },
  {
   "cell_type": "code",
   "execution_count": null,
   "id": "c72a27bf-4b3f-42ae-9ab4-1455755f3f25",
   "metadata": {},
   "outputs": [],
   "source": []
  }
 ],
 "metadata": {
  "kernelspec": {
   "display_name": "Python 3 (ipykernel)",
   "language": "python",
   "name": "python3"
  },
  "language_info": {
   "codemirror_mode": {
    "name": "ipython",
    "version": 3
   },
   "file_extension": ".py",
   "mimetype": "text/x-python",
   "name": "python",
   "nbconvert_exporter": "python",
   "pygments_lexer": "ipython3",
   "version": "3.8.0"
  }
 },
 "nbformat": 4,
 "nbformat_minor": 5
}
