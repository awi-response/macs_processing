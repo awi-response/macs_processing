{
 "cells": [
  {
   "cell_type": "markdown",
   "id": "a23562b0-325f-4808-918e-ed79bec8f1a5",
   "metadata": {},
   "source": [
    "# Create Product report for MACS processing data\n",
    "\n",
    "## 1. Data loading\n",
    "\n",
    "## 2. File checks\n",
    "* check completeness of input dirs and base files\n",
    "* count tiles\n",
    "* control for"
   ]
  },
  {
   "cell_type": "markdown",
   "id": "be1b5091-985a-4a15-bfd5-c1f79db304ea",
   "metadata": {},
   "source": [
    "## Imports"
   ]
  },
  {
   "cell_type": "code",
   "execution_count": 1,
   "id": "c5206242-ef63-4cea-b577-41427f27bdaa",
   "metadata": {},
   "outputs": [],
   "source": [
    "import pandas as pd\n",
    "from pathlib import Path\n",
    "import itertools\n",
    "import shutil\n",
    "import geopandas as gpd\n",
    "from tqdm.notebook import tqdm\n",
    "\n",
    "from utils_report import *"
   ]
  },
  {
   "cell_type": "code",
   "execution_count": 2,
   "id": "daf4314d-c4be-49a5-848c-be74ab276e6f",
   "metadata": {},
   "outputs": [],
   "source": [
    "def check_vrt_is_linux(row):\n",
    "    return all([vrt_is_linux(row['products_dir'] / item) for item in ['Ortho.vrt', 'DSM.vrt']])\n",
    "\n",
    "def vrt_is_linux(vrt_file):\n",
    "    with open(vrt_file, 'r') as src:\n",
    "        txt = src.readlines()\n",
    "        n_win_ds = len([True for line in txt if '\\\\' in line])\n",
    "    return n_win_ds == 0\n",
    "\n",
    "def vrt_win_to_linux(infile, outfile):\n",
    "        # open file and replace if necessary\n",
    "        with open(infile, 'r') as src:\n",
    "            txt = src.readlines()\n",
    "            txt_updated = [line.replace('\\\\', '/') for line in txt]\n",
    "\n",
    "        with open(outfile, 'w') as tgt:\n",
    "            tgt.writelines(txt_updated)\n",
    "\n",
    "def vrt_transform_win_to_linux(vrt_file, backup=False):\n",
    "    \n",
    "    # check if already linux vrt file\n",
    "    if not vrt_is_linux(vrt_file):\n",
    "        \n",
    "        # create name\n",
    "        vrt_file_updated = vrt_file.parent / (vrt_file.stem + '_new.vrt')\n",
    "        vrt_file_backup = vrt_file.parent / (vrt_file.stem + '_backup.vrt')\n",
    "        \n",
    "        # open file and replace if necessary\n",
    "        vrt_win_to_linux(vrt_file, vrt_file_updated)\n",
    "\n",
    "        # renaming\n",
    "        if backup:\n",
    "            shutil.copy2(vrt_file, vrt_file_backup)\n",
    "        os.remove(vrt_file)\n",
    "        os.rename(vrt_file_updated, vrt_file)\n",
    "        "
   ]
  },
  {
   "cell_type": "code",
   "execution_count": 46,
   "id": "16a922ff-6a79-4047-9592-55f0761cb045",
   "metadata": {},
   "outputs": [],
   "source": [
    "import rasterio\n",
    "\n",
    "def vrt_children_exist(vrt_file):\n",
    "    with rasterio.open(vrt_file, 'r') as src:\n",
    "        return all([Path(f).exists() for f in src.files]) and len(src.files) > 1"
   ]
  },
  {
   "cell_type": "code",
   "execution_count": 4,
   "id": "e0af9897-ba93-4e95-a83b-6640e98e7c9c",
   "metadata": {},
   "outputs": [],
   "source": [
    "def get_vrt_children_exist(row):\n",
    "    out = [vrt_children_exist(row['products_dir'] / item)  for item in ['Ortho.vrt', 'DSM.vrt']]\n",
    "    return pd.Series(out, index=['vrt_chilren_Ortho_exists', 'vrt_chilren_DSM_exists'], name=row.name)"
   ]
  },
  {
   "cell_type": "code",
   "execution_count": 5,
   "id": "081d2f16-f4be-42f5-b34f-fc8326d55414",
   "metadata": {},
   "outputs": [],
   "source": [
    "def calculate_aoi_area(row):\n",
    "    filename = DIR_AOI / (row.project_name + '.geojson') \n",
    "    gdf = gpd.read_file(filename).to_crs(epsg=32604)\n",
    "    return (gdf.geometry.area / 1e6).round(2).sum()"
   ]
  },
  {
   "cell_type": "markdown",
   "id": "66ade324-13a4-4d8a-8b8c-3c2c0f9a2a4d",
   "metadata": {},
   "source": [
    "## Setup \n",
    "* paths"
   ]
  },
  {
   "cell_type": "code",
   "execution_count": 6,
   "id": "76073d9f-08dd-4e1f-95ce-7d9bb7aac46a",
   "metadata": {},
   "outputs": [],
   "source": [
    "# setup basepaths\n",
    "DIR_BASE = Path(r'S:\\p_macsprocessing')\n",
    "DIR_DATA_PRODUCTS = DIR_BASE / 'data_products'\n",
    "DIR_AOI = DIR_BASE / 'aoi'"
   ]
  },
  {
   "cell_type": "code",
   "execution_count": 7,
   "id": "a99afb2d-174d-4c1d-a4f7-a8f0ca4ebdd6",
   "metadata": {},
   "outputs": [],
   "source": [
    "# check if directories all exists\n",
    "for d in [DIR_BASE, DIR_DATA_PRODUCTS, DIR_AOI]:\n",
    "    assert d.exists()"
   ]
  },
  {
   "cell_type": "markdown",
   "id": "a3357150-9634-4c14-aab5-0397cf863258",
   "metadata": {},
   "source": [
    "## Calculate Statistics \n",
    "* Files\n",
    "* File Count\n",
    "* file count accross types\n",
    "* aoi (size?)\n"
   ]
  },
  {
   "cell_type": "markdown",
   "id": "9318f924-0d99-445d-bfaa-11ffa71aa465",
   "metadata": {},
   "source": [
    "#### Setup basic Dataframe and split input name"
   ]
  },
  {
   "cell_type": "code",
   "execution_count": 8,
   "id": "ecca8a9a-49a5-4540-b8da-d4a93d8e4ef7",
   "metadata": {},
   "outputs": [],
   "source": [
    "df = pd.DataFrame(columns=['project_name', 'products_dir'])\n",
    "# create pathlist of output products\n",
    "dir_list = list(DIR_DATA_PRODUCTS.glob('*'))\n",
    "df['products_dir'] = dir_list\n",
    "# get project name\n",
    "df['project_name'] = df['products_dir'].apply(lambda x: x.name)\n",
    "# add site specific details\n",
    "df = split_name_details(df)"
   ]
  },
  {
   "cell_type": "code",
   "execution_count": 9,
   "id": "86b90466-ff9b-452a-968f-0a36246f35c3",
   "metadata": {},
   "outputs": [],
   "source": [
    "#check ortho, dsm and processing_info\n",
    "file_check_columns = ['DSM', 'Ortho','processing_info']\n",
    "cols_file_check = flatten([[f\"{item}_dir_exists\", f\"{item}_n_files\"] for item in file_check_columns])\n",
    "\n",
    "file_check_output = df.apply(file_check, dirs=file_check_columns, axis=1)\n",
    "df = df.join(pd.DataFrame(file_check_output.to_list(), columns=cols_file_check))"
   ]
  },
  {
   "cell_type": "code",
   "execution_count": 10,
   "id": "463984ba-f1a1-4384-b71f-9a269a72910b",
   "metadata": {},
   "outputs": [],
   "source": [
    "# check if aoi exists\n",
    "df['aoi_exists'] = df.apply(lambda x: (DIR_AOI / f'{x.project_name}.geojson').exists(), axis=1)\n",
    "df['aoi_area_km2'] = df.apply(calculate_aoi_area, axis=1)"
   ]
  },
  {
   "cell_type": "code",
   "execution_count": 11,
   "id": "06eb10d6-030a-40a3-b165-be6609e82ca5",
   "metadata": {},
   "outputs": [
    {
     "name": "stderr",
     "output_type": "stream",
     "text": [
      "D:\\Pix4D_Processing\\macs_processing_dev\\utils_report.py:156: RuntimeWarning: divide by zero encountered in double_scalars\n",
      "  point_density = header.point_count / ((header.x_max-header.x_min) * (header.y_max-header.y_min))\n",
      "D:\\Pix4D_Processing\\macs_processing_dev\\utils_report.py:156: RuntimeWarning: divide by zero encountered in double_scalars\n",
      "  point_density = header.point_count / ((header.x_max-header.x_min) * (header.y_max-header.y_min))\n",
      "D:\\Pix4D_Processing\\macs_processing_dev\\utils_report.py:156: RuntimeWarning: divide by zero encountered in double_scalars\n",
      "  point_density = header.point_count / ((header.x_max-header.x_min) * (header.y_max-header.y_min))\n",
      "D:\\Pix4D_Processing\\macs_processing_dev\\utils_report.py:156: RuntimeWarning: divide by zero encountered in double_scalars\n",
      "  point_density = header.point_count / ((header.x_max-header.x_min) * (header.y_max-header.y_min))\n"
     ]
    }
   ],
   "source": [
    "# check point cloud files\n",
    "PC_files = df.iloc[:].apply(file_check_PC, dirs=['PointClouds'], axis=1)\n",
    "df = df.join(pd.DataFrame(PC_files.to_list(), columns=['PointCloudsRGB_n_files', 'PointCloudsNIR_n_files']))\n",
    "# get mean point cloud density\n",
    "df = df.join(df.iloc[:].apply(get_median_point_density, axis=1))"
   ]
  },
  {
   "cell_type": "code",
   "execution_count": 12,
   "id": "58e289fc-5b9e-4fdc-8930-b7e3285fa8ad",
   "metadata": {},
   "outputs": [],
   "source": [
    "#check for base files\n",
    "# has vrt files\n",
    "df['vrt_exists'] = df.apply(check_files_vrt, axis=1)\n",
    "# has previews\n",
    "df['previews_exists'] = df.apply(check_files_previews, axis=1)\n",
    "# has previews\n",
    "df['footprints_exists'] = df.apply(check_files_footprints, axis=1)"
   ]
  },
  {
   "cell_type": "code",
   "execution_count": 13,
   "id": "cfcda499-1e13-4108-b9a5-6e6aaf7a3ff6",
   "metadata": {},
   "outputs": [],
   "source": [
    "df['vrt_is_linux'] = df.apply(check_vrt_is_linux, axis=1)"
   ]
  },
  {
   "cell_type": "markdown",
   "id": "886bcc76-7b0f-4961-9cae-9b25bd17bbc8",
   "metadata": {},
   "source": [
    "#### Vrt can read all files"
   ]
  },
  {
   "cell_type": "code",
   "execution_count": 53,
   "id": "8d2fe64a-b452-45a9-9670-5ef7bfc440a5",
   "metadata": {},
   "outputs": [],
   "source": [
    "out_tmp = df.apply(get_vrt_children_exist, axis=1)\n",
    "df = df.join(out_tmp)"
   ]
  },
  {
   "cell_type": "markdown",
   "id": "0eef0533-0e99-46ab-82cd-cd9ca7e28aa5",
   "metadata": {},
   "source": [
    "#### File counts in subdirs "
   ]
  },
  {
   "cell_type": "code",
   "execution_count": 54,
   "id": "f8b822bf-5b3e-4b4d-b74f-5cce35d69f7f",
   "metadata": {},
   "outputs": [],
   "source": [
    "df = check_file_count(df)"
   ]
  },
  {
   "cell_type": "code",
   "execution_count": 55,
   "id": "dcb53c2d-4821-4b3f-b117-3a4d5f4f8b31",
   "metadata": {},
   "outputs": [
    {
     "data": {
      "text/html": [
       "<div>\n",
       "<style scoped>\n",
       "    .dataframe tbody tr th:only-of-type {\n",
       "        vertical-align: middle;\n",
       "    }\n",
       "\n",
       "    .dataframe tbody tr th {\n",
       "        vertical-align: top;\n",
       "    }\n",
       "\n",
       "    .dataframe thead th {\n",
       "        text-align: right;\n",
       "    }\n",
       "</style>\n",
       "<table border=\"1\" class=\"dataframe\">\n",
       "  <thead>\n",
       "    <tr style=\"text-align: right;\">\n",
       "      <th></th>\n",
       "      <th>project_name</th>\n",
       "      <th>products_dir</th>\n",
       "      <th>region</th>\n",
       "      <th>site</th>\n",
       "      <th>date</th>\n",
       "      <th>spatial_resolution</th>\n",
       "      <th>subset</th>\n",
       "      <th>DSM_dir_exists</th>\n",
       "      <th>DSM_n_files</th>\n",
       "      <th>Ortho_dir_exists</th>\n",
       "      <th>...</th>\n",
       "      <th>vrt_exists</th>\n",
       "      <th>previews_exists</th>\n",
       "      <th>footprints_exists</th>\n",
       "      <th>vrt_is_linux</th>\n",
       "      <th>valid_count_dsm_ortho_equal</th>\n",
       "      <th>valid_count_pcrgb_pcnir_equal</th>\n",
       "      <th>valid_count_pc_raster_equal</th>\n",
       "      <th>all_valid</th>\n",
       "      <th>vrt_chilren_Ortho_exists</th>\n",
       "      <th>vrt_chilren_DSM_exists</th>\n",
       "    </tr>\n",
       "  </thead>\n",
       "  <tbody>\n",
       "    <tr>\n",
       "      <th>0</th>\n",
       "      <td>NA_AnaktuvukRiverFire_20190722_7cm_01</td>\n",
       "      <td>S:\\p_macsprocessing\\data_products\\NA_Anaktuvuk...</td>\n",
       "      <td>NA</td>\n",
       "      <td>AnaktuvukRiverFire</td>\n",
       "      <td>20190722</td>\n",
       "      <td>7cm</td>\n",
       "      <td>01</td>\n",
       "      <td>True</td>\n",
       "      <td>134</td>\n",
       "      <td>True</td>\n",
       "      <td>...</td>\n",
       "      <td>True</td>\n",
       "      <td>True</td>\n",
       "      <td>True</td>\n",
       "      <td>True</td>\n",
       "      <td>True</td>\n",
       "      <td>False</td>\n",
       "      <td>True</td>\n",
       "      <td>False</td>\n",
       "      <td>True</td>\n",
       "      <td>True</td>\n",
       "    </tr>\n",
       "    <tr>\n",
       "      <th>1</th>\n",
       "      <td>NA_AnaktuvukRiverFire_20190722_7cm_02</td>\n",
       "      <td>S:\\p_macsprocessing\\data_products\\NA_Anaktuvuk...</td>\n",
       "      <td>NA</td>\n",
       "      <td>AnaktuvukRiverFire</td>\n",
       "      <td>20190722</td>\n",
       "      <td>7cm</td>\n",
       "      <td>02</td>\n",
       "      <td>True</td>\n",
       "      <td>170</td>\n",
       "      <td>True</td>\n",
       "      <td>...</td>\n",
       "      <td>True</td>\n",
       "      <td>True</td>\n",
       "      <td>True</td>\n",
       "      <td>True</td>\n",
       "      <td>True</td>\n",
       "      <td>True</td>\n",
       "      <td>True</td>\n",
       "      <td>True</td>\n",
       "      <td>True</td>\n",
       "      <td>True</td>\n",
       "    </tr>\n",
       "    <tr>\n",
       "      <th>2</th>\n",
       "      <td>NA_AnaktuvukRiverFire_20190722_7cm_03</td>\n",
       "      <td>S:\\p_macsprocessing\\data_products\\NA_Anaktuvuk...</td>\n",
       "      <td>NA</td>\n",
       "      <td>AnaktuvukRiverFire</td>\n",
       "      <td>20190722</td>\n",
       "      <td>7cm</td>\n",
       "      <td>03</td>\n",
       "      <td>True</td>\n",
       "      <td>168</td>\n",
       "      <td>True</td>\n",
       "      <td>...</td>\n",
       "      <td>True</td>\n",
       "      <td>True</td>\n",
       "      <td>True</td>\n",
       "      <td>True</td>\n",
       "      <td>True</td>\n",
       "      <td>False</td>\n",
       "      <td>False</td>\n",
       "      <td>False</td>\n",
       "      <td>True</td>\n",
       "      <td>True</td>\n",
       "    </tr>\n",
       "    <tr>\n",
       "      <th>3</th>\n",
       "      <td>NA_AnaktuvukRiverFire_20190722_7cm_04</td>\n",
       "      <td>S:\\p_macsprocessing\\data_products\\NA_Anaktuvuk...</td>\n",
       "      <td>NA</td>\n",
       "      <td>AnaktuvukRiverFire</td>\n",
       "      <td>20190722</td>\n",
       "      <td>7cm</td>\n",
       "      <td>04</td>\n",
       "      <td>True</td>\n",
       "      <td>170</td>\n",
       "      <td>True</td>\n",
       "      <td>...</td>\n",
       "      <td>True</td>\n",
       "      <td>True</td>\n",
       "      <td>True</td>\n",
       "      <td>True</td>\n",
       "      <td>True</td>\n",
       "      <td>True</td>\n",
       "      <td>True</td>\n",
       "      <td>True</td>\n",
       "      <td>True</td>\n",
       "      <td>True</td>\n",
       "    </tr>\n",
       "    <tr>\n",
       "      <th>4</th>\n",
       "      <td>NA_AnaktuvukRiverFire_20190722_7cm_05</td>\n",
       "      <td>S:\\p_macsprocessing\\data_products\\NA_Anaktuvuk...</td>\n",
       "      <td>NA</td>\n",
       "      <td>AnaktuvukRiverFire</td>\n",
       "      <td>20190722</td>\n",
       "      <td>7cm</td>\n",
       "      <td>05</td>\n",
       "      <td>True</td>\n",
       "      <td>140</td>\n",
       "      <td>True</td>\n",
       "      <td>...</td>\n",
       "      <td>True</td>\n",
       "      <td>True</td>\n",
       "      <td>True</td>\n",
       "      <td>True</td>\n",
       "      <td>True</td>\n",
       "      <td>True</td>\n",
       "      <td>True</td>\n",
       "      <td>True</td>\n",
       "      <td>True</td>\n",
       "      <td>True</td>\n",
       "    </tr>\n",
       "  </tbody>\n",
       "</table>\n",
       "<p>5 rows × 29 columns</p>\n",
       "</div>"
      ],
      "text/plain": [
       "                            project_name  \\\n",
       "0  NA_AnaktuvukRiverFire_20190722_7cm_01   \n",
       "1  NA_AnaktuvukRiverFire_20190722_7cm_02   \n",
       "2  NA_AnaktuvukRiverFire_20190722_7cm_03   \n",
       "3  NA_AnaktuvukRiverFire_20190722_7cm_04   \n",
       "4  NA_AnaktuvukRiverFire_20190722_7cm_05   \n",
       "\n",
       "                                        products_dir region  \\\n",
       "0  S:\\p_macsprocessing\\data_products\\NA_Anaktuvuk...     NA   \n",
       "1  S:\\p_macsprocessing\\data_products\\NA_Anaktuvuk...     NA   \n",
       "2  S:\\p_macsprocessing\\data_products\\NA_Anaktuvuk...     NA   \n",
       "3  S:\\p_macsprocessing\\data_products\\NA_Anaktuvuk...     NA   \n",
       "4  S:\\p_macsprocessing\\data_products\\NA_Anaktuvuk...     NA   \n",
       "\n",
       "                 site      date spatial_resolution subset  DSM_dir_exists  \\\n",
       "0  AnaktuvukRiverFire  20190722                7cm     01            True   \n",
       "1  AnaktuvukRiverFire  20190722                7cm     02            True   \n",
       "2  AnaktuvukRiverFire  20190722                7cm     03            True   \n",
       "3  AnaktuvukRiverFire  20190722                7cm     04            True   \n",
       "4  AnaktuvukRiverFire  20190722                7cm     05            True   \n",
       "\n",
       "   DSM_n_files  Ortho_dir_exists  ...  vrt_exists  previews_exists  \\\n",
       "0          134              True  ...        True             True   \n",
       "1          170              True  ...        True             True   \n",
       "2          168              True  ...        True             True   \n",
       "3          170              True  ...        True             True   \n",
       "4          140              True  ...        True             True   \n",
       "\n",
       "   footprints_exists  vrt_is_linux  valid_count_dsm_ortho_equal  \\\n",
       "0               True          True                         True   \n",
       "1               True          True                         True   \n",
       "2               True          True                         True   \n",
       "3               True          True                         True   \n",
       "4               True          True                         True   \n",
       "\n",
       "   valid_count_pcrgb_pcnir_equal  valid_count_pc_raster_equal  all_valid  \\\n",
       "0                          False                         True      False   \n",
       "1                           True                         True       True   \n",
       "2                          False                        False      False   \n",
       "3                           True                         True       True   \n",
       "4                           True                         True       True   \n",
       "\n",
       "   vrt_chilren_Ortho_exists  vrt_chilren_DSM_exists  \n",
       "0                      True                    True  \n",
       "1                      True                    True  \n",
       "2                      True                    True  \n",
       "3                      True                    True  \n",
       "4                      True                    True  \n",
       "\n",
       "[5 rows x 29 columns]"
      ]
     },
     "execution_count": 55,
     "metadata": {},
     "output_type": "execute_result"
    }
   ],
   "source": [
    "df.head()"
   ]
  },
  {
   "cell_type": "markdown",
   "id": "8ebbd8e2-ad44-4e91-a45f-bb7cf2535fd2",
   "metadata": {
    "tags": []
   },
   "source": [
    "## Export\n",
    "* colored df\n",
    "* csv\n",
    "* pdf\n",
    "* excel?"
   ]
  },
  {
   "cell_type": "markdown",
   "id": "c52c70ff-4beb-4f77-b58a-a02ee7805ac6",
   "metadata": {},
   "source": [
    "#### Create styling by column"
   ]
  },
  {
   "cell_type": "code",
   "execution_count": 57,
   "id": "4fd0e74d-6328-41af-ad3a-716bff79b1b6",
   "metadata": {},
   "outputs": [],
   "source": [
    "df['valid_count_dsm_ortho_equal'] = df['DSM_n_files'] == df['Ortho_n_files']\n",
    "df['valid_count_pcrgb_pcnir_equal'] = df['PointCloudsRGB_n_files'] == df['PointCloudsNIR_n_files']\n",
    "#df['valid_count_pc_raster_equal']"
   ]
  },
  {
   "cell_type": "code",
   "execution_count": 58,
   "id": "afa15f1e-074b-4f10-b44c-b58ad719d3bb",
   "metadata": {},
   "outputs": [],
   "source": [
    "# create subsets for styling\n",
    "subset_round = [s for s in df.columns if s.endswith('_density')] + ['aoi_area_km2']\n",
    "subset_cols = [s for s in df.columns if s.endswith('n_files')] + subset_round\n",
    "subset_exists = [s for s in df.columns if s.endswith('_exists')]\n",
    "subset_valid_counts =  [s for s in df.columns if s.startswith('valid_count_')]\n",
    "subset_valid_styler = ['project_name', 'products_dir', 'all_valid']"
   ]
  },
  {
   "cell_type": "code",
   "execution_count": 59,
   "id": "36c62394-869e-4679-9256-96162b5cf340",
   "metadata": {},
   "outputs": [],
   "source": [
    "df['all_valid'] = df[subset_exists + subset_valid_counts].all(axis=1) "
   ]
  },
  {
   "cell_type": "code",
   "execution_count": 60,
   "id": "cd0df978-1686-4f34-985f-638584e96a0e",
   "metadata": {},
   "outputs": [],
   "source": [
    "df_styled = df.style.background_gradient(cmap='Blues', subset=subset_cols[:], axis=0)\\\n",
    ".background_gradient(cmap='Greens', subset=subset_exists, axis=0, vmin=0, vmax=1)\\\n",
    ".applymap(highlight_zero)\\\n",
    ".apply(highlight_invalid, axis=1, subset=subset_valid_styler)\\\n",
    ".format('{:.2f}', subset=subset_round)"
   ]
  },
  {
   "cell_type": "code",
   "execution_count": 61,
   "id": "4c4aa29e-0e26-4559-b15d-cfbd50a70513",
   "metadata": {},
   "outputs": [],
   "source": [
    "df.to_pickle(DIR_BASE / 'processing_status_report_raw.z')\n",
    "df_styled.to_html(DIR_BASE / 'processing_status_report.html')"
   ]
  },
  {
   "cell_type": "code",
   "execution_count": null,
   "id": "292ebc47-1f54-4de0-91c1-940a2b559e4f",
   "metadata": {},
   "outputs": [],
   "source": []
  },
  {
   "cell_type": "markdown",
   "id": "684888cf-fbc3-4ca3-9eb4-a645a35d9e99",
   "metadata": {
    "tags": []
   },
   "source": [
    "## Aggregated statistics\n"
   ]
  },
  {
   "cell_type": "code",
   "execution_count": 62,
   "id": "7d159114-90c7-4d36-9d3c-8947d4d4b810",
   "metadata": {},
   "outputs": [],
   "source": [
    "df_group_sums = df.groupby('site').sum()[['Ortho_n_files', 'aoi_area_km2', 'aoi_exists']]\n",
    "df_group_sums['n_tiles'] = (df_group_sums['Ortho_n_files'] / 2).astype(int)"
   ]
  },
  {
   "cell_type": "code",
   "execution_count": 63,
   "id": "b2dfc519-97f8-4125-aa17-91a555401ee1",
   "metadata": {},
   "outputs": [],
   "source": [
    "df_group_means = df.groupby('site').mean()[['PointCloudsRGB_density', 'PointCloudsNIR_density']]"
   ]
  },
  {
   "cell_type": "code",
   "execution_count": 64,
   "id": "38b58fa8-5d77-486e-b77d-14386100e1db",
   "metadata": {},
   "outputs": [],
   "source": [
    "df_group_first = df.groupby('site').first()[['date', 'spatial_resolution', 'region']]\n",
    "df_group_first['date'] = pd.to_datetime(df_group_first['date'])"
   ]
  },
  {
   "cell_type": "code",
   "execution_count": 65,
   "id": "1517c46b-7d44-4dfc-a5d3-41f3eada8397",
   "metadata": {},
   "outputs": [],
   "source": [
    "df_grouped = pd.concat([df_group_first, df_group_sums, df_group_means, ], axis=1).sort_values(by='date').reset_index(drop=False).drop(columns=['Ortho_n_files']).round(2)\n",
    "df_grouped_final = df_grouped.rename(columns={'aoi_exists':'Number of subprojects', 'site':'Target Name', 'date':'Date','aoi_area_km2':'Area covered km²'})"
   ]
  },
  {
   "cell_type": "code",
   "execution_count": 66,
   "id": "f3bfec14-f6a7-48ed-8eda-9b8971228d9f",
   "metadata": {},
   "outputs": [],
   "source": [
    "df_grouped_final.to_pickle(DIR_BASE / 'processing_status_report_grouped_raw.z')\n",
    "df_grouped_final.to_html(DIR_BASE / 'processing_status_report_grouped.html')"
   ]
  },
  {
   "cell_type": "code",
   "execution_count": null,
   "id": "78cd0c37-7580-4333-b2a4-96780eb4b943",
   "metadata": {},
   "outputs": [],
   "source": []
  }
 ],
 "metadata": {
  "kernelspec": {
   "display_name": "Python 3 (ipykernel)",
   "language": "python",
   "name": "python3"
  },
  "language_info": {
   "codemirror_mode": {
    "name": "ipython",
    "version": 3
   },
   "file_extension": ".py",
   "mimetype": "text/x-python",
   "name": "python",
   "nbconvert_exporter": "python",
   "pygments_lexer": "ipython3",
   "version": "3.8.0"
  }
 },
 "nbformat": 4,
 "nbformat_minor": 5
}
